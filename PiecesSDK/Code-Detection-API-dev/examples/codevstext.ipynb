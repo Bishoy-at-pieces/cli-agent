{
 "cells": [
  {
   "cell_type": "code",
   "execution_count": null,
   "metadata": {
    "collapsed": true,
    "pycharm": {
     "name": "#%%\n"
    }
   },
   "outputs": [],
   "source": [
    "import codedetection"
   ]
  },
  {
   "cell_type": "code",
   "execution_count": 3,
   "outputs": [
    {
     "data": {
      "text/plain": "[{'naturalLanguage': False, 'likelihood': 0.7491161227226257},\n {'naturalLanguage': True, 'likelihood': 0.26305055618286133},\n {'naturalLanguage': False, 'likelihood': 0.7507235109806061},\n {'naturalLanguage': True, 'likelihood': 0.250438392162323}]"
     },
     "execution_count": 3,
     "metadata": {},
     "output_type": "execute_result"
    }
   ],
   "source": [
    "response = codedetection.CodeVsText.evaluate([\n",
    "    \"\"\"std::cout << \"Hello World\";\"\"\",\n",
    "    \"\"\"I'm facing this error when running my code with 3 lstm layers\"\"\",\n",
    "    \"\"\"print(\"Hello World\")\"\"\",\n",
    "    \"\"\"Please give full stack trace of the error and some way to figure out line numbers\"\"\"\n",
    "])\n",
    "response"
   ],
   "metadata": {
    "collapsed": false,
    "pycharm": {
     "name": "#%%\n"
    }
   }
  }
 ],
 "metadata": {
  "kernelspec": {
   "display_name": "Python 3",
   "language": "python",
   "name": "python3"
  },
  "language_info": {
   "codemirror_mode": {
    "name": "ipython",
    "version": 2
   },
   "file_extension": ".py",
   "mimetype": "text/x-python",
   "name": "python",
   "nbconvert_exporter": "python",
   "pygments_lexer": "ipython2",
   "version": "2.7.6"
  }
 },
 "nbformat": 4,
 "nbformat_minor": 0
}