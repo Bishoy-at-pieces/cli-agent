{
 "cells": [
  {
   "cell_type": "code",
   "execution_count": 6,
   "metadata": {
    "collapsed": true
   },
   "outputs": [],
   "source": [
    "import codedetection"
   ]
  },
  {
   "cell_type": "code",
   "execution_count": 7,
   "outputs": [
    {
     "data": {
      "text/plain": "[{'language': 'cpp',\n  'predictions': [{'cpp': 0.9767795222},\n   {'objectivec': 0.0089834883},\n   {'rust': 0.0052851479},\n   {'c': 0.0045396774},\n   {'lua': 0.0024779877}]},\n {'language': 'csharp',\n  'predictions': [{'csharp': 0.9439353599},\n   {'powershell': 0.0313723893},\n   {'scala': 0.0063899886},\n   {'typescript': 0.0042451225},\n   {'java': 0.0038244318}]},\n {'language': 'python',\n  'predictions': [{'python': 0.6158868209},\n   {'r': 0.3217318045},\n   {'lua': 0.0231845631},\n   {'scala': 0.0144880948},\n   {'haskell': 0.0067381259}]}]"
     },
     "execution_count": 7,
     "metadata": {},
     "output_type": "execute_result"
    }
   ],
   "source": [
    "response = codedetection.Classifier.classify([\n",
    "    \"\"\"std::cout << \"Hello World\";\"\"\",\n",
    "    \"\"\"System.Console.WriteLine(\"Hello World\");\"\"\",\n",
    "    \"\"\"print(\"Hello World\")\"\"\"\n",
    "])\n",
    "response"
   ],
   "metadata": {
    "collapsed": false,
    "pycharm": {
     "name": "#%%\n"
    }
   }
  }
 ],
 "metadata": {
  "kernelspec": {
   "display_name": "Python 3",
   "language": "python",
   "name": "python3"
  },
  "language_info": {
   "codemirror_mode": {
    "name": "ipython",
    "version": 2
   },
   "file_extension": ".py",
   "mimetype": "text/x-python",
   "name": "python",
   "nbconvert_exporter": "python",
   "pygments_lexer": "ipython2",
   "version": "2.7.6"
  }
 },
 "nbformat": 4,
 "nbformat_minor": 0
}